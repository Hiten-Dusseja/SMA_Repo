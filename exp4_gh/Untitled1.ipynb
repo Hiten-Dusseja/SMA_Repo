{
 "cells": [
  {
   "cell_type": "code",
   "execution_count": 1,
   "id": "fc7a9467-7a15-4817-8f1e-343b4b085443",
   "metadata": {},
   "outputs": [
    {
     "data": {
      "text/plain": [
       "'cleaned_data.json'"
      ]
     },
     "execution_count": 1,
     "metadata": {},
     "output_type": "execute_result"
    }
   ],
   "source": [
    "import pandas as pd\n",
    "import re\n",
    "import json\n",
    "\n",
    "# Load the JSON data\n",
    "file_path = \"legalad_posts.json\"\n",
    "output_path = \"cleaned_data.json\"\n",
    "\n",
    "# Read JSON file into a Pandas DataFrame\n",
    "df = pd.read_json(file_path)\n",
    "\n",
    "# Function to clean text fields\n",
    "def clean_text(text):\n",
    "    if not isinstance(text, str):\n",
    "        return text  # Return as is if it's not a string\n",
    "    \n",
    "    text = text.strip()  # Remove leading/trailing whitespace\n",
    "    text = re.sub(r'\\s+', ' ', text)  # Replace multiple spaces/newlines with a single space\n",
    "    text = re.sub(r'[^\\w\\s.,!?\\'\"-]', '', text)  # Remove unwanted special characters (except punctuation)\n",
    "    return text\n",
    "\n",
    "# Apply text cleaning to relevant fields\n",
    "text_columns = [\"title\", \"text\"]  # Assuming these are the text columns in the dataset\n",
    "for col in text_columns:\n",
    "    if col in df.columns:\n",
    "        df[col] = df[col].apply(clean_text)\n",
    "\n",
    "# Convert numerical fields to proper data types\n",
    "numeric_columns = [\"score\", \"num_comments\"]  # Modify based on actual numeric fields\n",
    "for col in numeric_columns:\n",
    "    if col in df.columns:\n",
    "        df[col] = pd.to_numeric(df[col], errors=\"coerce\")  # Convert to numbers, set errors to NaN\n",
    "\n",
    "# Handle missing values\n",
    "df.fillna({\"title\": \"Untitled\", \"text\": \"No content available\"}, inplace=True)\n",
    "\n",
    "# Save cleaned data to a new JSON file\n",
    "df.to_json(output_path, orient=\"records\", indent=4)\n",
    "\n",
    "# Output file path\n",
    "output_path\n"
   ]
  },
  {
   "cell_type": "code",
   "execution_count": null,
   "id": "6e4c077f-1126-40f6-b7b7-10852f89e8ef",
   "metadata": {},
   "outputs": [],
   "source": []
  }
 ],
 "metadata": {
  "kernelspec": {
   "display_name": "Python 3 (ipykernel)",
   "language": "python",
   "name": "python3"
  },
  "language_info": {
   "codemirror_mode": {
    "name": "ipython",
    "version": 3
   },
   "file_extension": ".py",
   "mimetype": "text/x-python",
   "name": "python",
   "nbconvert_exporter": "python",
   "pygments_lexer": "ipython3",
   "version": "3.12.3"
  }
 },
 "nbformat": 4,
 "nbformat_minor": 5
}
